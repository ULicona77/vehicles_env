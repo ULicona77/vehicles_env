{
 "cells": [
  {
   "cell_type": "markdown",
   "id": "5649a5d0",
   "metadata": {},
   "source": [
    "# Análisis Exploratorio de Datos (EDA)\n",
    "Este notebook explora el conjunto de datos `vehicles_us.csv`."
   ]
  },
  {
   "cell_type": "code",
   "execution_count": null,
   "id": "ea78ea05",
   "metadata": {},
   "outputs": [],
   "source": [
    "import pandas as pd\n",
    "import plotly.express as px\n",
    "\n",
    "# Cargar datos\n",
    "df = pd.read_csv('../vehicles_us.csv')\n",
    "df.head()"
   ]
  },
  {
   "cell_type": "markdown",
   "id": "c120a21b",
   "metadata": {},
   "source": [
    "## Información general del conjunto de datos"
   ]
  },
  {
   "cell_type": "code",
   "execution_count": null,
   "id": "b3ede8ba",
   "metadata": {},
   "outputs": [],
   "source": [
    "df.info()"
   ]
  },
  {
   "cell_type": "markdown",
   "id": "e4a2e13f",
   "metadata": {},
   "source": [
    "## Estadísticas descriptivas"
   ]
  },
  {
   "cell_type": "code",
   "execution_count": null,
   "id": "527e525b",
   "metadata": {},
   "outputs": [],
   "source": [
    "df.describe()"
   ]
  },
  {
   "cell_type": "markdown",
   "id": "fb0a494c",
   "metadata": {},
   "source": [
    "## Histograma de odómetro"
   ]
  },
  {
   "cell_type": "code",
   "execution_count": null,
   "id": "80888c2a",
   "metadata": {},
   "outputs": [],
   "source": [
    "px.histogram(df, x='odometer')"
   ]
  },
  {
   "cell_type": "markdown",
   "id": "e9169516",
   "metadata": {},
   "source": [
    "## Gráfico de dispersión entre odómetro y precio"
   ]
  },
  {
   "cell_type": "code",
   "execution_count": null,
   "id": "f75e128e",
   "metadata": {},
   "outputs": [],
   "source": [
    "px.scatter(df, x='odometer', y='price')"
   ]
  }
 ],
 "metadata": {},
 "nbformat": 4,
 "nbformat_minor": 5
}